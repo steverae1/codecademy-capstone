{
 "cells": [
  {
   "cell_type": "markdown",
   "metadata": {},
   "source": [
    "# Steven Rae - Machine Learning Capstone Project - Step 4\n",
    "\n",
    "## Using K-Nearest Neighbors Classification Technique\n",
    "\n",
    "**Question to be Answered:** Is there a way to predict if a person is a musician(or has in interest in music) from info in their profile (specifically levels of smoking, drinking and drugs along with orientation, sex and relationship status)\n",
    "\n",
    "Define inputs and load the OKCupid data into a pandas dataframe:"
   ]
  },
  {
   "cell_type": "code",
   "execution_count": 1,
   "metadata": {},
   "outputs": [],
   "source": [
    "import pandas as pd\n",
    "import numpy as np\n",
    "from matplotlib import pyplot as plt\n",
    "from sklearn.model_selection import train_test_split\n",
    "from sklearn import preprocessing\n",
    "from sklearn.neighbors import KNeighborsClassifier\n",
    "from sklearn.metrics import classification_report\n",
    "\n",
    "okcupidDF = pd.read_csv(\"profiles.csv\")"
   ]
  },
  {
   "cell_type": "markdown",
   "metadata": {},
   "source": [
    "String together all the essay questions and search for the word 'music'. Basic assumption is that if they mention music anywhere in the essays they are either a musician or have an interest in music."
   ]
  },
  {
   "cell_type": "code",
   "execution_count": 2,
   "metadata": {},
   "outputs": [],
   "source": [
    "essay_cols = [\"essay0\",\"essay1\",\"essay2\",\"essay3\",\"essay4\",\"essay5\",\"essay6\",\"essay7\",\"essay8\",\"essay9\"]\n",
    "\n",
    "\n",
    "# Removing the NaNs\n",
    "all_essays = okcupidDF[essay_cols].replace(np.nan, '', regex=True)\n",
    "# Combining the essays\n",
    "all_essays = all_essays[essay_cols].apply(lambda x: ' '.join(x), axis=1)\n",
    "\n",
    "\n",
    "okcupidDF['comb_essays'] = all_essays\n",
    "\n",
    "# print(okcupidDF['comb_essays'].head())\n",
    "\n",
    "# add label column to dataframe to identify music interest\n",
    "okcupidDF['is_music'] = np.where(okcupidDF['comb_essays'].str.contains('music'), 1, 0)"
   ]
  },
  {
   "cell_type": "markdown",
   "metadata": {},
   "source": [
    "Need to address the okcupidDF columns 'drinks', 'drugs', 'orientation', 'sex', 'smokes', 'status'. okcupidDF['is_music'] does not have any NaNs, but 'drinks', 'drugs', 'orientation', 'sex', 'smokes', 'status' do. Remove NaNs from relevent columns."
   ]
  },
  {
   "cell_type": "code",
   "execution_count": 3,
   "metadata": {},
   "outputs": [],
   "source": [
    "okcupidDF = okcupidDF.dropna(subset= ['drinks', 'drugs', 'orientation', 'sex', 'smokes', 'status'])\n",
    "\n",
    "#check NaNs removal\n",
    "# print(okcupidDF.drinks.value_counts(dropna=False))\n",
    "# print(okcupidDF.drugs.value_counts(dropna=False))\n",
    "# print(okcupidDF.orientation.value_counts(dropna=False))\n",
    "# print(okcupidDF.sex.value_counts(dropna=False))\n",
    "# print(okcupidDF.smokes.value_counts(dropna=False))\n",
    "# print(okcupidDF.status.value_counts(dropna=False))"
   ]
  },
  {
   "cell_type": "markdown",
   "metadata": {},
   "source": [
    "'drinks', 'drugs', 'orientation', 'sex', 'smokes', 'status' columns have categorical responses. Need to map them to numeric equivalents so they can be used in our classification model:"
   ]
  },
  {
   "cell_type": "code",
   "execution_count": 4,
   "metadata": {},
   "outputs": [],
   "source": [
    "drink_mapping = {'not at all': 1, 'rarely': 2, 'socially': 3, 'often': 4, 'very often': 5, 'desperately': 6}\n",
    "okcupidDF['drinks_code'] = okcupidDF.drinks.map(drink_mapping)\n",
    "\n",
    "drug_mapping = {'never': 1, 'sometimes': 2, 'often': 3}\n",
    "okcupidDF['drugs_code'] = okcupidDF.drugs.map(drug_mapping)\n",
    "\n",
    "orientation_mapping = {'straight': 1, 'gay': 2, 'bisexual': 3}\n",
    "okcupidDF['orientation_code'] = okcupidDF.orientation.map(orientation_mapping)\n",
    "\n",
    "sex_mapping = {'m': 1, 'f': 2}\n",
    "okcupidDF['sex_code'] = okcupidDF.sex.map(sex_mapping)\n",
    "\n",
    "smoke_mapping = {'no': 1, 'when drinking': 2, 'sometimes': 3, 'yes': 4, 'trying to quit': 5}\n",
    "okcupidDF['smokes_code'] = okcupidDF.smokes.map(smoke_mapping)\n",
    "\n",
    "status_mapping = {'unknown': 1, 'single': 2, 'available': 3, 'seeing someone': 4, 'married': 5}\n",
    "okcupidDF['status_code'] = okcupidDF.status.map(status_mapping)"
   ]
  },
  {
   "cell_type": "markdown",
   "metadata": {},
   "source": [
    "Create a dataframe that's a subset of the okcupidDF. This new dataframe will be the input to the classification model:"
   ]
  },
  {
   "cell_type": "code",
   "execution_count": 5,
   "metadata": {},
   "outputs": [],
   "source": [
    "feature_data = okcupidDF[['drinks_code', 'drugs_code', 'orientation_code', 'sex_code', 'smokes_code', 'status_code', 'is_music']]"
   ]
  },
  {
   "cell_type": "markdown",
   "metadata": {},
   "source": [
    "Mappings for 'drinks', 'drugs', 'orientation', 'sex', 'smokes', 'status' are not on the same scale. Need to normalize our classification model dataset:"
   ]
  },
  {
   "cell_type": "code",
   "execution_count": 6,
   "metadata": {},
   "outputs": [
    {
     "name": "stdout",
     "output_type": "stream",
     "text": [
      "   drinks_code  drugs_code  orientation_code  sex_code  smokes_code  \\\n",
      "0          0.4         0.0               0.0       0.0          0.5   \n",
      "1          0.6         0.5               0.0       0.0          0.0   \n",
      "2          0.4         0.0               0.0       0.0          0.0   \n",
      "3          0.4         0.0               0.0       1.0          0.0   \n",
      "4          0.0         0.0               0.0       0.0          0.0   \n",
      "\n",
      "   status_code  is_music  \n",
      "0         0.25       1.0  \n",
      "1         0.25       1.0  \n",
      "2         0.25       1.0  \n",
      "3         0.25       1.0  \n",
      "4         0.25       1.0  \n"
     ]
    },
    {
     "name": "stderr",
     "output_type": "stream",
     "text": [
      "/Users/steverae/miniconda3/lib/python3.7/site-packages/sklearn/utils/validation.py:595: DataConversionWarning: Data with input dtype int64 was converted to float64 by MinMaxScaler.\n",
      "  warnings.warn(msg, DataConversionWarning)\n"
     ]
    }
   ],
   "source": [
    "x = feature_data.values\n",
    "\n",
    "min_max_scaler = preprocessing.MinMaxScaler()\n",
    "x_scaled = min_max_scaler.fit_transform(x)\n",
    "\n",
    "feature_data = pd.DataFrame(x_scaled, columns=feature_data.columns)\n",
    "\n",
    "print(feature_data.head())"
   ]
  },
  {
   "cell_type": "markdown",
   "metadata": {},
   "source": [
    "Create training and validation sets, validation set should be 25% of data by default:"
   ]
  },
  {
   "cell_type": "code",
   "execution_count": 7,
   "metadata": {},
   "outputs": [],
   "source": [
    "training_set, validation_set = train_test_split(feature_data, random_state = 1)"
   ]
  },
  {
   "cell_type": "markdown",
   "metadata": {},
   "source": [
    "Time to run the K Neighbors classifier. Will setup and run multiple times for k = 1 to 100. Trying to find an optimum value for k. Plot the result:"
   ]
  },
  {
   "cell_type": "code",
   "execution_count": 8,
   "metadata": {},
   "outputs": [
    {
     "name": "stdout",
     "output_type": "stream",
     "text": [
      "[1, 0.5918674698795181]\n",
      "[2, 0.5609939759036144]\n",
      "[3, 0.6094691265060241]\n",
      "[4, 0.5845256024096386]\n",
      "[5, 0.6366716867469879]\n",
      "[6, 0.6124811746987951]\n",
      "[7, 0.6404367469879518]\n",
      "[8, 0.6256588855421686]\n",
      "[9, 0.6519201807228916]\n",
      "[10, 0.6416603915662651]\n",
      "[11, 0.6470256024096386]\n",
      "[12, 0.6299887048192772]\n",
      "[13, 0.6535203313253012]\n",
      "[14, 0.6375188253012049]\n",
      "[15, 0.6627447289156626]\n",
      "[16, 0.6602974397590361]\n",
      "[17, 0.6662274096385542]\n",
      "[18, 0.6585090361445783]\n",
      "[19, 0.6701807228915663]\n",
      "[20, 0.6657567771084337]\n",
      "[21, 0.6678275602409639]\n",
      "[22, 0.6663215361445783]\n",
      "[23, 0.6676393072289156]\n",
      "[24, 0.6664156626506024]\n",
      "[25, 0.6695218373493976]\n",
      "[26, 0.6662274096385542]\n",
      "[27, 0.6696159638554217]\n",
      "[28, 0.6693335843373494]\n",
      "[29, 0.6697100903614458]\n",
      "[30, 0.6691453313253012]\n",
      "[31, 0.6707454819277109]\n",
      "[32, 0.6705572289156626]\n",
      "[33, 0.6712161144578314]\n",
      "[34, 0.6704631024096386]\n",
      "[35, 0.6714043674698795]\n",
      "[36, 0.670933734939759]\n",
      "[37, 0.6714043674698795]\n",
      "[38, 0.6713102409638554]\n",
      "[39, 0.6725338855421686]\n",
      "[40, 0.6726280120481928]\n",
      "[41, 0.6723456325301205]\n",
      "[42, 0.6726280120481928]\n",
      "[43, 0.6724397590361446]\n",
      "[44, 0.6725338855421686]\n",
      "[45, 0.6725338855421686]\n",
      "[46, 0.6719691265060241]\n",
      "[47, 0.6722515060240963]\n",
      "[48, 0.6715926204819277]\n",
      "[49, 0.671875]\n",
      "[50, 0.6717808734939759]\n",
      "[51, 0.6717808734939759]\n",
      "[52, 0.6719691265060241]\n",
      "[53, 0.6730986445783133]\n",
      "[54, 0.6719691265060241]\n",
      "[55, 0.672816265060241]\n",
      "[56, 0.672816265060241]\n",
      "[57, 0.672816265060241]\n",
      "[58, 0.6727221385542169]\n",
      "[59, 0.6731927710843374]\n",
      "[60, 0.6731927710843374]\n",
      "[61, 0.673851656626506]\n",
      "[62, 0.673851656626506]\n",
      "[63, 0.6742281626506024]\n",
      "[64, 0.6733810240963856]\n",
      "[65, 0.6739457831325302]\n",
      "[66, 0.6733810240963856]\n",
      "[67, 0.6741340361445783]\n",
      "[68, 0.6742281626506024]\n",
      "[69, 0.6741340361445783]\n",
      "[70, 0.6740399096385542]\n",
      "[71, 0.6739457831325302]\n",
      "[72, 0.6741340361445783]\n",
      "[73, 0.6740399096385542]\n",
      "[74, 0.6742281626506024]\n",
      "[75, 0.6741340361445783]\n",
      "[76, 0.6741340361445783]\n",
      "[77, 0.6744164156626506]\n",
      "[78, 0.6740399096385542]\n",
      "[79, 0.6743222891566265]\n",
      "[80, 0.6741340361445783]\n",
      "[81, 0.6740399096385542]\n",
      "[82, 0.6741340361445783]\n",
      "[83, 0.6739457831325302]\n",
      "[84, 0.6743222891566265]\n",
      "[85, 0.6742281626506024]\n",
      "[86, 0.673851656626506]\n",
      "[87, 0.6742281626506024]\n",
      "[88, 0.6741340361445783]\n",
      "[89, 0.6742281626506024]\n",
      "[90, 0.6742281626506024]\n",
      "[91, 0.6741340361445783]\n",
      "[92, 0.6742281626506024]\n",
      "[93, 0.6742281626506024]\n",
      "[94, 0.6742281626506024]\n",
      "[95, 0.6741340361445783]\n",
      "[96, 0.6741340361445783]\n",
      "[97, 0.6742281626506024]\n",
      "[98, 0.6741340361445783]\n",
      "[99, 0.6741340361445783]\n",
      "   Accuracy  KValue\n",
      "0  0.591867     1.0\n",
      "1  0.560994     2.0\n",
      "2  0.609469     3.0\n",
      "3  0.584526     4.0\n",
      "4  0.636672     5.0\n"
     ]
    },
    {
     "data": {
      "image/png": "[encoded data removed]",
      "text/plain": [
       "<Figure size 432x288 with 1 Axes>"
      ]
     },
     "metadata": {
      "needs_background": "light"
     },
     "output_type": "display_data"
    }
   ],
   "source": [
    "K_AccuracyScoreDF = pd.DataFrame()\n",
    "\n",
    "for k in range(1, 100):\n",
    "    classifier = KNeighborsClassifier(n_neighbors = k)\n",
    "    classifier.fit(training_set[['drinks_code', 'drugs_code', 'orientation_code', 'sex_code', 'smokes_code', 'status_code']], training_set['is_music'])\n",
    "    score = classifier.score(validation_set[['drinks_code', 'drugs_code', 'orientation_code', 'sex_code', 'smokes_code', 'status_code']], validation_set['is_music'])\n",
    "    score_list = [k, score]\n",
    "    print(score_list)\n",
    "    K_AccuracyScoreDF = K_AccuracyScoreDF.append({'KValue': k, 'Accuracy': score}, ignore_index=True)\n",
    "\n",
    "print(K_AccuracyScoreDF.head())\n",
    "\n",
    "plt.plot(K_AccuracyScoreDF['KValue'], K_AccuracyScoreDF['Accuracy'])\n",
    "plt.xlabel('k')\n",
    "plt.ylabel('Validation Accuracy')\n",
    "plt.title('Validation Accuracy as k Changes')\n",
    "plt.show()"
   ]
  },
  {
   "cell_type": "markdown",
   "metadata": {},
   "source": [
    "Hmmm..... looks like k around 63 looks to be around the best. Use that value of k to score and predict the validation and training sets:"
   ]
  },
  {
   "cell_type": "code",
   "execution_count": 9,
   "metadata": {},
   "outputs": [
    {
     "name": "stdout",
     "output_type": "stream",
     "text": [
      "Validation Score:  0.6742281626506024\n",
      "Training Score:  0.6686329264848923\n"
     ]
    }
   ],
   "source": [
    "classifier = KNeighborsClassifier(n_neighbors = 63)\n",
    "classifier.fit(training_set[['drinks_code', 'drugs_code', 'orientation_code', 'sex_code', 'smokes_code', 'status_code']], training_set['is_music'])\n",
    "validation_score = classifier.score(validation_set[['drinks_code', 'drugs_code', 'orientation_code', 'sex_code', 'smokes_code', 'status_code']], validation_set['is_music'])\n",
    "validation_predict = classifier.predict(validation_set[['drinks_code', 'drugs_code', 'orientation_code', 'sex_code', 'smokes_code', 'status_code']])\n",
    "print( 'Validation Score: ', validation_score)\n",
    "training_score = classifier.score(training_set[['drinks_code', 'drugs_code', 'orientation_code', 'sex_code', 'smokes_code', 'status_code']], training_set['is_music'])\n",
    "training_predict = classifier.predict(training_set[['drinks_code', 'drugs_code', 'orientation_code', 'sex_code', 'smokes_code', 'status_code']])\n",
    "print( 'Training Score: ', training_score)"
   ]
  },
  {
   "cell_type": "code",
   "execution_count": 11,
   "metadata": {},
   "outputs": [
    {
     "name": "stdout",
     "output_type": "stream",
     "text": [
      "              precision    recall  f1-score   support\n",
      "\n",
      "         0.0       0.50      0.00      0.00      3461\n",
      "         1.0       0.67      1.00      0.81      7163\n",
      "\n",
      "   micro avg       0.67      0.67      0.67     10624\n",
      "   macro avg       0.59      0.50      0.40     10624\n",
      "weighted avg       0.62      0.67      0.54     10624\n",
      "\n"
     ]
    }
   ],
   "source": [
    "print(classification_report(validation_set['is_music'], validation_predict))"
   ]
  },
  {
   "cell_type": "code",
   "execution_count": 12,
   "metadata": {},
   "outputs": [
    {
     "name": "stdout",
     "output_type": "stream",
     "text": [
      "              precision    recall  f1-score   support\n",
      "\n",
      "         0.0       0.47      0.00      0.00     10559\n",
      "         1.0       0.67      1.00      0.80     21312\n",
      "\n",
      "   micro avg       0.67      0.67      0.67     31871\n",
      "   macro avg       0.57      0.50      0.40     31871\n",
      "weighted avg       0.60      0.67      0.54     31871\n",
      "\n"
     ]
    }
   ],
   "source": [
    "print(classification_report(training_set['is_music'], training_predict))"
   ]
  },
  {
   "cell_type": "markdown",
   "metadata": {},
   "source": [
    "## Step 4 Conclusions\n",
    "\n",
    "Conclusions here are very similar to Step 3. The value counts for 'is_music' suggest about 2/3 of the entire dataset identifies with music to some degree. So the dataset is somewhat imbalanced in terms of musical interest. It would have been great of the dataset asked a specific questions like 'are you into music?' and/or 'are you a musician?'. An additional essay question asking the clients to detail their interest/involvement with music would have been very helpful.\n",
    "\n",
    "All the messures (Accuracy, preceicion, recall and F1) are very similar for both the training and validation sets, which suggests overfitting the training data is not an issue here. Accuracy is an ok measure here as the dataset is not overly imbalanced. Precision in choosing 'is music' mirrors the Accuracy measures but is not so good at truely picking people with no musical interest. Recall and F1 suggest the model is very good at identifiying musical people. while not so good at identifiying non-musical people. \n",
    "\n",
    "Ideally I'd like to add some extra questions directly about music, and get a more even representation of musical and non-musical people/classes. I also wish I had time to explore the contribution each dependent variable in the model. \n",
    "Adding dependent variables directly related to identifying musical persuits would also be helpful in determining a good predictive model.\n",
    "\n",
    "It's somewhat eerie to me that the outcome is so similar to Step 3, which used fewer dependent variables and a different classification technique. It suggests that the current set of dependent variables don't have much effect on the prediction. There doesn't seem to be much clustering of data for this, and the predictions are more to do with the slightly imbalanced data classes "
   ]
  },
  {
   "cell_type": "code",
   "execution_count": null,
   "metadata": {},
   "outputs": [],
   "source": []
  }
 ],
 "metadata": {
  "kernelspec": {
   "display_name": "Python 3",
   "language": "python",
   "name": "python3"
  },
  "language_info": {
   "codemirror_mode": {
    "name": "ipython",
    "version": 3
   },
   "file_extension": ".py",
   "mimetype": "text/x-python",
   "name": "python",
   "nbconvert_exporter": "python",
   "pygments_lexer": "ipython3",
   "version": "3.7.1"
  }
 },
 "nbformat": 4,
 "nbformat_minor": 2
}
