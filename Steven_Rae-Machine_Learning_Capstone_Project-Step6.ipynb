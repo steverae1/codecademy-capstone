{
 "cells": [
  {
   "cell_type": "markdown",
   "metadata": {},
   "source": [
    "# Steven Rae - Machine Learning Capstone Project - Step 6\n",
    "\n",
    "## Machine Learning Course/Capstone Project - Final Thoughts/Comments"
   ]
  },
  {
   "cell_type": "markdown",
   "metadata": {},
   "source": [
    "Now that I've finished the course material and worked through the capstone project.... This OK Cupid dataset does not seem to have any serious clustering or correlations in the actual data. I've not been able to uncover anything that would lead me to believe it's a dataset that would lead to any really solid predictive capability. Reading some of the Slack content, it seems my fellow students encountered much the same.\n",
    "\n",
    "- I wonder if this is typical in today's data sciences profession? \n",
    "- Perhaps much larger datasets may proove more conclusive? \n",
    "- Wondering how much initial input the professional data sciences people have in setting up the collection of a dataset?\n",
    "- Wondering how often professional data science people simply have datasets flung at them that they are expected to work miracles with?\n"
   ]
  },
  {
   "cell_type": "markdown",
   "metadata": {},
   "source": [
    "One of the things we were asked to consider was the performance of the various analysis techniques. Sure... Looping to determine the best gamma and C for the SVC classifier took about 15 minutes. But really, what's so wrong with a software execution that runs in less then a 1/2 hour?...... except when you have to be in a CEO boardroon in 5 minutes...LOL!!\n",
    "\n",
    "Honestly I thought the performance time of all the Python software approaches were fine. Perhaps it becomes an issue with bigger datasets that feature millions of points? I don't have enough exerience yet to comment.\n"
   ]
  },
  {
   "cell_type": "markdown",
   "metadata": {},
   "source": [
    "I get the impression that day to day life for current data scientists/analysts is much better if you have a very thick skin and are comfortable with a very large target on your back (not that there's necessarily something wrong with that).\n",
    "\n",
    "I assume it's very tough when solid conclusions cannot be drawn from a dataset. Especially if there were big $$ involved in collecting the data.\n",
    "\n",
    "Even when solid conclusions can be drawn, I'm sure there are times when one can expect a 'vortex of fingerpointing' when the conclusions are not the expected/wanted conclusions.\n",
    "\n",
    "I expect another tough part of the job is dealing with superiors who are not well versed in computer use and/or statistical analysis.\n",
    "\n",
    "I recall back to the mid to late 80s when personal computing was first being introduced. I was a project manager implementing computerized material planning to a manufacturing facility. Before this point, the facility was run purely on paperwork, and managed by a bunch of cigar chomping type A personalities that didn't know how to turn a computer on. I can honstly say that 10 percent of my problems were technical and 90 percent political. I managed to succeed, but also honestly amazed that I lived through it!!\n",
    "\n",
    "I suspect that the coming introductory wave of Artificial Intelligence will mirror that experience I had back in the 80s. Yes or No? Would love to read your thoughts!!"
   ]
  },
  {
   "cell_type": "markdown",
   "metadata": {},
   "source": [
    "Lastly, I would like to thank moderator Albert and all the folks at CodeCademy who were involved in creating the Machine Learning Fundamentals Course. I thought it was very well timed and paced for working professionals with other concurrent responsibilities. I am very happy with the content and am considering next steps by taking on the fast.ai course. I'm told it's a little more 'boiler plate' as far as working with this stuff on a real world day to day basis.\n",
    "\n",
    "I work in the Supply Chain and Logistics field. Albert had mentioned in the Slack that there are many opportunities for Machine Learning/AI here. I must admit that I have yet to see much uptake of this amoung my current clients, some of whom are Fortune 500 companies.\n",
    "\n",
    "I'd love to have a 10 minute conference call with Albert sometime and hear his views on the adoption of Machine Learning/AI in Supply Chain. A guy can dream right??"
   ]
  },
  {
   "cell_type": "markdown",
   "metadata": {},
   "source": [
    "Thanks again and wishing you all the best!!! Cheers!!"
   ]
  },
  {
   "cell_type": "code",
   "execution_count": null,
   "metadata": {},
   "outputs": [],
   "source": []
  }
 ],
 "metadata": {
  "kernelspec": {
   "display_name": "Python 3",
   "language": "python",
   "name": "python3"
  },
  "language_info": {
   "codemirror_mode": {
    "name": "ipython",
    "version": 3
   },
   "file_extension": ".py",
   "mimetype": "text/x-python",
   "name": "python",
   "nbconvert_exporter": "python",
   "pygments_lexer": "ipython3",
   "version": "3.7.1"
  }
 },
 "nbformat": 4,
 "nbformat_minor": 2
}
