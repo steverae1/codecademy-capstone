{
 "cells": [
  {
   "cell_type": "markdown",
   "metadata": {},
   "source": [
    "# Steven Rae - Machine Learning Capstone Project - Step 3\n",
    "\n",
    "## Using Support Vector Machines Classification Technique\n",
    "\n",
    "**Question to be Answered:** Is there a way to predict if a person is a musician(or has in interest in music) from info in their profile (specifically levels of smoking and drinking)\n",
    "\n",
    "Define inputs and load the OKCupid data into a pandas dataframe:"
   ]
  },
  {
   "cell_type": "code",
   "execution_count": 1,
   "metadata": {},
   "outputs": [],
   "source": [
    "import pandas as pd\n",
    "import numpy as np\n",
    "from matplotlib import pyplot as plt\n",
    "from sklearn.svm import SVC\n",
    "from sklearn.model_selection import train_test_split\n",
    "from sklearn import preprocessing\n",
    "from sklearn.metrics import classification_report\n",
    "\n",
    "okcupidDF = pd.read_csv(\"profiles.csv\")"
   ]
  },
  {
   "cell_type": "markdown",
   "metadata": {},
   "source": [
    "String together all the essay questions and search for the word 'music'. Basic assumption is that if they mention music anywhere in the essays they are either a musician or have an interest in music.\n"
   ]
  },
  {
   "cell_type": "code",
   "execution_count": 2,
   "metadata": {},
   "outputs": [],
   "source": [
    "essay_cols = [\"essay0\",\"essay1\",\"essay2\",\"essay3\",\"essay4\",\"essay5\",\"essay6\",\"essay7\",\"essay8\",\"essay9\"]\n",
    "\n",
    "\n",
    "# Removing the NaNs\n",
    "all_essays = okcupidDF[essay_cols].replace(np.nan, '', regex=True)\n",
    "# Combining the essays\n",
    "all_essays = all_essays[essay_cols].apply(lambda x: ' '.join(x), axis=1)\n",
    "\n",
    "\n",
    "okcupidDF['comb_essays'] = all_essays\n",
    "\n",
    "# print(okcupidDF['comb_essays'].head())\n",
    "\n",
    "# add label column to dataframe to identify music interest\n",
    "okcupidDF['is_music'] = np.where(okcupidDF['comb_essays'].str.contains('music'), 1, 0)"
   ]
  },
  {
   "cell_type": "markdown",
   "metadata": {},
   "source": [
    "Need to address the okcupidDF columns 'smokes' and 'drinks'.\n",
    "okcupidDF['is_music'] does not have any NaNs, but smokes and drinks do.\n",
    "Remove NaNs from smokes and drinks"
   ]
  },
  {
   "cell_type": "code",
   "execution_count": 3,
   "metadata": {},
   "outputs": [],
   "source": [
    "okcupidDF = okcupidDF.dropna(subset= ['drinks', 'smokes'])"
   ]
  },
  {
   "cell_type": "raw",
   "metadata": {},
   "source": [
    "Smokes and drinks columns have categorical responses. Need to map them to numeric equivalents so they can be used in our classification model:"
   ]
  },
  {
   "cell_type": "code",
   "execution_count": 4,
   "metadata": {},
   "outputs": [],
   "source": [
    "drink_mapping = {'not at all': 1, 'rarely': 2, 'socially': 3, 'often': 4, 'very often': 5, 'desperately': 6}\n",
    "\n",
    "# add new drinks mapping to dataframe\n",
    "okcupidDF['drinks_code'] = okcupidDF.drinks.map(drink_mapping)\n",
    "\n",
    "smoke_mapping = {'no': 1, 'when drinking': 2, 'sometimes': 3, 'yes': 4, 'trying to quit': 5}\n",
    "\n",
    "# add new smokes mapping to dataframe\n",
    "okcupidDF['smokes_code'] = okcupidDF.smokes.map(smoke_mapping)"
   ]
  },
  {
   "cell_type": "markdown",
   "metadata": {},
   "source": [
    "Create a dataframe that's a subset of the okcupidDF. This new dataframe will be the input to the classification model:"
   ]
  },
  {
   "cell_type": "code",
   "execution_count": 5,
   "metadata": {},
   "outputs": [],
   "source": [
    "feature_data = okcupidDF[['drinks_code', 'smokes_code', 'is_music']]"
   ]
  },
  {
   "cell_type": "markdown",
   "metadata": {},
   "source": [
    "Mappings for drinks and smokes are not on the same scale. Need to normalize our classification model dataset:"
   ]
  },
  {
   "cell_type": "code",
   "execution_count": 6,
   "metadata": {},
   "outputs": [
    {
     "name": "stdout",
     "output_type": "stream",
     "text": [
      "   drinks_code  smokes_code  is_music\n",
      "0          0.4          0.5       1.0\n",
      "1          0.6          0.0       1.0\n",
      "2          0.4          0.0       1.0\n",
      "3          0.4          0.0       0.0\n",
      "4          0.4          0.0       1.0\n"
     ]
    },
    {
     "name": "stderr",
     "output_type": "stream",
     "text": [
      "/Users/steverae/miniconda3/lib/python3.7/site-packages/sklearn/utils/validation.py:595: DataConversionWarning: Data with input dtype int64 was converted to float64 by MinMaxScaler.\n",
      "  warnings.warn(msg, DataConversionWarning)\n"
     ]
    }
   ],
   "source": [
    "x = feature_data.values\n",
    "\n",
    "min_max_scaler = preprocessing.MinMaxScaler()\n",
    "x_scaled = min_max_scaler.fit_transform(x)\n",
    "\n",
    "feature_data = pd.DataFrame(x_scaled, columns=feature_data.columns)\n",
    "\n",
    "print(feature_data.head())"
   ]
  },
  {
   "cell_type": "markdown",
   "metadata": {},
   "source": [
    "Run a scatterplot to visualize the data:"
   ]
  },
  {
   "cell_type": "code",
   "execution_count": 7,
   "metadata": {},
   "outputs": [
    {
     "data": {
      "image/png": "[encoded data removed]",
      "text/plain": [
       "<Figure size 432x288 with 1 Axes>"
      ]
     },
     "metadata": {
      "needs_background": "light"
     },
     "output_type": "display_data"
    }
   ],
   "source": [
    "fig, ax = plt.subplots()\n",
    "\n",
    "plt.scatter(feature_data['drinks_code'],\n",
    "            feature_data['smokes_code'],\n",
    "            c = feature_data['is_music'],\n",
    "            cmap = plt.cm.coolwarm,\n",
    "            alpha = 0.25)\n",
    "\n",
    "plt.show()"
   ]
  },
  {
   "cell_type": "markdown",
   "metadata": {},
   "source": [
    "Hmmm..... The data seems to show that musical interest is spread all through the smokes/drinks spectrum. Not seeing any obvious clusters of data. Still... soldiering on. Create training and validation sets, validation set should be 25% of data by default:"
   ]
  },
  {
   "cell_type": "code",
   "execution_count": 8,
   "metadata": {},
   "outputs": [],
   "source": [
    "training_set, validation_set = train_test_split(feature_data, random_state = 1)"
   ]
  },
  {
   "cell_type": "markdown",
   "metadata": {},
   "source": [
    "Run a series of SVC classifier setups to see if we can find a best fit. C is margin size, if C is large, it has a hard margin and won't allow for many mis-classifications. If C is too large, then model runs the risk of overfitting, relying too heavily on the training data. As for gamma, higher gamma value puts more emphasis on the training data:"
   ]
  },
  {
   "cell_type": "code",
   "execution_count": 9,
   "metadata": {},
   "outputs": [
    {
     "name": "stdout",
     "output_type": "stream",
     "text": [
      "[1, 1, 0.6845180136319376]\n",
      "[1, 2, 0.6845180136319376]\n",
      "[1, 3, 0.6845180136319376]\n",
      "[1, 4, 0.6845180136319376]\n",
      "[2, 1, 0.6845180136319376]\n",
      "[2, 2, 0.6845180136319376]\n",
      "[2, 3, 0.6845180136319376]\n",
      "[2, 4, 0.6845180136319376]\n",
      "[3, 1, 0.6845180136319376]\n",
      "[3, 2, 0.6845180136319376]\n",
      "[3, 3, 0.6845180136319376]\n",
      "[3, 4, 0.6845180136319376]\n",
      "[4, 1, 0.6845180136319376]\n",
      "[4, 2, 0.6845180136319376]\n",
      "[4, 3, 0.6845180136319376]\n",
      "[4, 4, 0.6845180136319376]\n"
     ]
    }
   ],
   "source": [
    "for gamma in range(1, 5):\n",
    "    for C in range(1, 5):\n",
    "        classifier = SVC(kernel='rbf', gamma = gamma, C = C)\n",
    "        classifier.fit(training_set[['drinks_code', 'smokes_code']], training_set['is_music'])\n",
    "\n",
    "        score = classifier.score(validation_set[['drinks_code', 'smokes_code']], validation_set['is_music'])\n",
    "        score_list = [gamma, C, score]\n",
    "        print(score_list)"
   ]
  },
  {
   "cell_type": "markdown",
   "metadata": {},
   "source": [
    "It looks like regardless of which values of gamma and C are used, they don't have much effect on the score. Assuming this has everything to do with the virtual non-clustering of the data. Starting to look like a very dumb analysis to try and make. Soldiering on anyway. Picking a gamma of 0.8 and a C of 1. Fitting the training set and scoring both training and validation:"
   ]
  },
  {
   "cell_type": "code",
   "execution_count": 11,
   "metadata": {},
   "outputs": [
    {
     "name": "stdout",
     "output_type": "stream",
     "text": [
      "[0.8, 1, 0.6845180136319376]\n",
      "[0.8, 1, 0.6842276097975082]\n"
     ]
    }
   ],
   "source": [
    "gamma = 0.8\n",
    "C = 1\n",
    "classifier = SVC(kernel='rbf', gamma = gamma, C = C)\n",
    "classifier.fit(training_set[['drinks_code', 'smokes_code']], training_set['is_music'])\n",
    "validation_score = classifier.score(validation_set[['drinks_code', 'smokes_code']], validation_set['is_music'])\n",
    "validation_score_list = [gamma, C, validation_score]\n",
    "print(validation_score_list)\n",
    "validation_prediction = classifier.predict(validation_set[['drinks_code', 'smokes_code']])\n",
    "\n",
    "training_score = classifier.score(training_set[['drinks_code', 'smokes_code']], training_set['is_music'])\n",
    "training_score_list = [gamma, C, training_score]\n",
    "print(training_score_list)\n",
    "training_prediction = classifier.predict(training_set[['drinks_code', 'smokes_code']])"
   ]
  },
  {
   "cell_type": "markdown",
   "metadata": {},
   "source": [
    "Not seeing a significant difference between training and validation scores. The results do not appear to be overfitted to the training data."
   ]
  },
  {
   "cell_type": "code",
   "execution_count": 14,
   "metadata": {},
   "outputs": [
    {
     "name": "stdout",
     "output_type": "stream",
     "text": [
      "              precision    recall  f1-score   support\n",
      "\n",
      "         0.0       0.00      0.00      0.00      4212\n",
      "         1.0       0.68      1.00      0.81      9139\n",
      "\n",
      "   micro avg       0.68      0.68      0.68     13351\n",
      "   macro avg       0.34      0.50      0.41     13351\n",
      "weighted avg       0.47      0.68      0.56     13351\n",
      "\n"
     ]
    }
   ],
   "source": [
    "print(classification_report(validation_set['is_music'], validation_prediction))"
   ]
  },
  {
   "cell_type": "code",
   "execution_count": 15,
   "metadata": {},
   "outputs": [
    {
     "name": "stdout",
     "output_type": "stream",
     "text": [
      "              precision    recall  f1-score   support\n",
      "\n",
      "         0.0       0.00      0.00      0.00     12647\n",
      "         1.0       0.68      1.00      0.81     27404\n",
      "\n",
      "   micro avg       0.68      0.68      0.68     40051\n",
      "   macro avg       0.34      0.50      0.41     40051\n",
      "weighted avg       0.47      0.68      0.56     40051\n",
      "\n"
     ]
    }
   ],
   "source": [
    "print(classification_report(training_set['is_music'], training_prediction))"
   ]
  },
  {
   "cell_type": "markdown",
   "metadata": {},
   "source": [
    "## Step 3 Conclusions\n",
    "\n",
    "Conclusions here are very similar to Step 4. The value counts for 'is_music' suggest about 2/3 of the entire dataset identifies with music to some degree. So the dataset is somewhat imbalanced in terms of musical interest. It would have been great of the dataset asked a specific questions like 'are you into music?' and/or 'are you a musician?'. An additional essay question asking the clients to detail their interest/involvement with music would have been very helpful.\n",
    "\n",
    "All the messures (Accuracy, preceicion, recall and F1) are virtually the same for both the training and validation sets, which suggests overfitting the training data is not an issue here. Accuracy is an ok measure here as the dataset is not overly imbalanced. Precision in choosing 'is music' mirrors the Accuracy measures but is not so good at truely picking people with no musical interest. Recall and F1 suggest the model is very good at identifiying musical people. while not so good at identifiying non-musical people. \n",
    "\n",
    "Ideally I'd like to add some extra questions directly about music, and get a more even representation of musical and non-musical people/classes. Adding dependent variables directly related to identifying musical persuits would also be helpful in determining a good predictive model.\n",
    "\n",
    "It's somewhat eerie to me that the outcome is so similar to Step 4, which used more dependent variables and a different classification technique. It suggests that the current set of dependent variables don't have much effect on the prediction. There doesn't seem to be much clustering of data for this, and the predictions are more to do with the slightly imbalanced data classes. "
   ]
  },
  {
   "cell_type": "code",
   "execution_count": null,
   "metadata": {},
   "outputs": [],
   "source": []
  }
 ],
 "metadata": {
  "kernelspec": {
   "display_name": "Python 3",
   "language": "python",
   "name": "python3"
  },
  "language_info": {
   "codemirror_mode": {
    "name": "ipython",
    "version": 3
   },
   "file_extension": ".py",
   "mimetype": "text/x-python",
   "name": "python",
   "nbconvert_exporter": "python",
   "pygments_lexer": "ipython3",
   "version": "3.7.1"
  }
 },
 "nbformat": 4,
 "nbformat_minor": 2
}
