{
 "cells": [
  {
   "cell_type": "markdown",
   "metadata": {},
   "source": [
    "# Steven Rae - Machine Learning Capstone Project - Step 1\n",
    "\n",
    "## Exploring the OKCupid Dataset\n",
    "\n",
    "My first step in this project was to take a detailed look at the OKCupid dataset. I created a .py file with a bunch of exploratory code to get a good look/breakdown of the data stored in it. I used this file repeatedly throughout my work to refresh myself on the details of data elements I was considering for use in my classifications and regressions. This file is broken down as follows:\n",
    "\n",
    "First was to load the OKCupid data into a pandas dataframe:"
   ]
  },
  {
   "cell_type": "code",
   "execution_count": 1,
   "metadata": {},
   "outputs": [],
   "source": [
    "import pandas as pd\n",
    "import numpy as np\n",
    "from matplotlib import pyplot as plt\n",
    "\n",
    "#Create pandas dataframe:\n",
    "okcupidDF = pd.read_csv(\"profiles.csv\")"
   ]
  },
  {
   "cell_type": "markdown",
   "metadata": {},
   "source": [
    "Next, take an aggregate look at columns and rows in the dataframe:"
   ]
  },
  {
   "cell_type": "code",
   "execution_count": 2,
   "metadata": {},
   "outputs": [
    {
     "name": "stdout",
     "output_type": "stream",
     "text": [
      "['age', 'body_type', 'diet', 'drinks', 'drugs', 'education', 'essay0', 'essay1', 'essay2', 'essay3', 'essay4', 'essay5', 'essay6', 'essay7', 'essay8', 'essay9', 'ethnicity', 'height', 'income', 'job', 'last_online', 'location', 'offspring', 'orientation', 'pets', 'religion', 'sex', 'sign', 'smokes', 'speaks', 'status']\n",
      "59946\n"
     ]
    }
   ],
   "source": [
    "#names of columns\n",
    "print(list(okcupidDF))\n",
    "\n",
    "# how many rows\n",
    "total_rows = len(okcupidDF.index)\n",
    "print(total_rows)"
   ]
  },
  {
   "cell_type": "markdown",
   "metadata": {},
   "source": [
    "Taking a look at each non-essay column of data in some detail. Printing a head for each column. also looking at the values breakdown including which columns had NaN entries as well. Most of this stuff is commented out here, but I have left one uncommented to get some output: "
   ]
  },
  {
   "cell_type": "code",
   "execution_count": 3,
   "metadata": {},
   "outputs": [
    {
     "name": "stdout",
     "output_type": "stream",
     "text": [
      "0    south san francisco, california\n",
      "1                oakland, california\n",
      "2          san francisco, california\n",
      "3               berkeley, california\n",
      "4          san francisco, california\n",
      "Name: location, dtype: object\n",
      "san francisco, california          31064\n",
      "oakland, california                 7214\n",
      "berkeley, california                4212\n",
      "san mateo, california               1331\n",
      "palo alto, california               1064\n",
      "alameda, california                  910\n",
      "san rafael, california               755\n",
      "hayward, california                  747\n",
      "emeryville, california               738\n",
      "redwood city, california             693\n",
      "daly city, california                681\n",
      "san leandro, california              651\n",
      "walnut creek, california             644\n",
      "vallejo, california                  558\n",
      "menlo park, california               479\n",
      "richmond, california                 424\n",
      "south san francisco, california      416\n",
      "mountain view, california            384\n",
      "novato, california                   369\n",
      "burlingame, california               361\n",
      "pleasant hill, california            347\n",
      "castro valley, california            345\n",
      "stanford, california                 341\n",
      "el cerrito, california               325\n",
      "pacifica, california                 323\n",
      "martinez, california                 316\n",
      "mill valley, california              315\n",
      "san bruno, california                290\n",
      "san pablo, california                245\n",
      "belmont, california                  243\n",
      "                                   ...  \n",
      "guadalajara, mexico                    1\n",
      "nha trang, vietnam                     1\n",
      "stratford, connecticut                 1\n",
      "granite bay, california                1\n",
      "boulder, colorado                      1\n",
      "canyon, california                     1\n",
      "chico, california                      1\n",
      "las vegas, nevada                      1\n",
      "leander, texas                         1\n",
      "olema, california                      1\n",
      "north hollywood, california            1\n",
      "rochester, michigan                    1\n",
      "cincinnati, ohio                       1\n",
      "taunton, massachusetts                 1\n",
      "union city, california                 1\n",
      "jackson, mississippi                   1\n",
      "modesto, california                    1\n",
      "bellingham, washington                 1\n",
      "santa ana, california                  1\n",
      "santa clara, california                1\n",
      "miami, florida                         1\n",
      "ozone park, new york                   1\n",
      "london, united kingdom                 1\n",
      "islip terrace, new york                1\n",
      "south lake tahoe, california           1\n",
      "grand rapids, michigan                 1\n",
      "cork, ireland                          1\n",
      "san luis obispo, california            1\n",
      "livingston, california                 1\n",
      "south wellfleet, massachusetts         1\n",
      "Name: location, Length: 199, dtype: int64\n"
     ]
    }
   ],
   "source": [
    "# look at each column of data\n",
    "# print(okcupidDF.age.head())\n",
    "# print(okcupidDF.age.value_counts(dropna=False))\n",
    "\n",
    "# print(okcupidDF.body_type.head())\n",
    "# print(okcupidDF.body_type.value_counts(dropna=False))\n",
    "\n",
    "# print(okcupidDF.diet.head())\n",
    "# print(okcupidDF.diet.value_counts(dropna=False))\n",
    "\n",
    "# print(okcupidDF.drinks.head())\n",
    "# print(okcupidDF.drinks.value_counts(dropna=False))\n",
    "\n",
    "# print(okcupidDF.drugs.head())\n",
    "# print(okcupidDF.drugs.value_counts(dropna=False))\n",
    "\n",
    "# print(okcupidDF.education.head())\n",
    "# print(okcupidDF.education.value_counts(dropna=False))\n",
    "\n",
    "# print(okcupidDF.ethnicity.head())\n",
    "# print(okcupidDF.ethnicity.value_counts(dropna=False))\n",
    "\n",
    "# print(okcupidDF.height.head())\n",
    "# print(okcupidDF.height.value_counts(dropna=False))\n",
    "\n",
    "# print(okcupidDF.income.head(100))\n",
    "# print(okcupidDF.income.value_counts(dropna=False))\n",
    "\n",
    "# print(okcupidDF.job.head())\n",
    "# print(okcupidDF.job.value_counts(dropna=False))\n",
    "\n",
    "# print(okcupidDF.last_online.head())\n",
    "# print(okcupidDF.last_online.value_counts(dropna=False))\n",
    "\n",
    "print(okcupidDF.location.head())\n",
    "print(okcupidDF.location.value_counts(dropna=False))\n",
    "\n",
    "# print(okcupidDF.offspring.head())\n",
    "# print(okcupidDF.offspring.value_counts(dropna=False))\n",
    "\n",
    "# print(okcupidDF.orientation.head())\n",
    "# print(okcupidDF.orientation.value_counts(dropna=False))\n",
    "\n",
    "# print(okcupidDF.pets.head())\n",
    "# print(okcupidDF.pets.value_counts(dropna=False))\n",
    "\n",
    "# print(okcupidDF.religion.head())\n",
    "# print(okcupidDF.religion.value_counts(dropna=False))\n",
    "\n",
    "# print(okcupidDF.sex.head())\n",
    "# print(okcupidDF.sex.value_counts(dropna=False))\n",
    "\n",
    "# print(okcupidDF.sign.head())\n",
    "# print(okcupidDF.sign.value_counts(dropna=False))\n",
    "\n",
    "# print(okcupidDF.smokes.head())\n",
    "# print(okcupidDF.smokes.value_counts(dropna=False))\n",
    "\n",
    "# print(okcupidDF.speaks.head())\n",
    "# print(okcupidDF.speaks.value_counts(dropna=False))\n",
    "\n",
    "# print(okcupidDF.status.head())\n",
    "# print(okcupidDF.status.value_counts(dropna=False))\n"
   ]
  },
  {
   "cell_type": "markdown",
   "metadata": {},
   "source": [
    "Finally, taking a look at each of the essay columns in the dataset. Printing the head for each as well as saving each essay to a csv file. This make it easy to open the essays in Numbers/Excel to easily view essay contents. Also running the histogram detailed in the capstone_instructions.md file (just for the hell of it)."
   ]
  },
  {
   "cell_type": "code",
   "execution_count": 4,
   "metadata": {},
   "outputs": [
    {
     "name": "stdout",
     "output_type": "stream",
     "text": [
      "0    about me:<br />\\n<br />\\ni would love to think...\n",
      "1    i am a chef: this is what that means.<br />\\n1...\n",
      "2    i'm not ashamed of much, but writing public te...\n",
      "3            i work in a library and go to school. . .\n",
      "4    hey how's it going? currently vague on the pro...\n",
      "Name: essay0, dtype: object\n"
     ]
    },
    {
     "data": {
      "image/png": "[encoded data removed]",
      "text/plain": [
       "<Figure size 432x288 with 1 Axes>"
      ]
     },
     "metadata": {
      "needs_background": "light"
     },
     "output_type": "display_data"
    }
   ],
   "source": [
    "print(okcupidDF.essay0.head())\n",
    "# okcupidDF.essay0.to_csv('essay0.csv')\n",
    "\n",
    "# print(okcupidDF.essay1.head())\n",
    "# okcupidDF.essay1.to_csv('essay1.csv')\n",
    "\n",
    "# print(okcupidDF.essay2.head())\n",
    "# okcupidDF.essay2.to_csv('essay2.csv')\n",
    "\n",
    "# print(okcupidDF.essay3.head())\n",
    "# okcupidDF.essay3.to_csv('essay3.csv')\n",
    "\n",
    "# print(okcupidDF.essay4.head())\n",
    "# okcupidDF.essay4.to_csv('essay4.csv')\n",
    "\n",
    "# print(okcupidDF.essay5.head())\n",
    "# okcupidDF.essay5.to_csv('essay5.csv')\n",
    "\n",
    "# print(okcupidDF.essay6.head())\n",
    "# okcupidDF.essay6.to_csv('essay6.csv')\n",
    "\n",
    "# print(okcupidDF.essay7.head())\n",
    "# okcupidDF.essay7.to_csv('essay7.csv')\n",
    "\n",
    "# print(okcupidDF.essay8.head())\n",
    "# okcupidDF.essay8.to_csv('essay8.csv')\n",
    "\n",
    "# print(okcupidDF.essay9.head())\n",
    "# okcupidDF.essay9.to_csv('essay9.csv')\n",
    "\n",
    "# running the recommended histogram:\n",
    "\n",
    "plt.hist(okcupidDF.age, bins=20)\n",
    "plt.xlabel(\"Age\")\n",
    "plt.ylabel(\"Frequency\")\n",
    "plt.xlim(16, 80)\n",
    "plt.show()"
   ]
  }
 ],
 "metadata": {
  "kernelspec": {
   "display_name": "Python 3",
   "language": "python",
   "name": "python3"
  },
  "language_info": {
   "codemirror_mode": {
    "name": "ipython",
    "version": 3
   },
   "file_extension": ".py",
   "mimetype": "text/x-python",
   "name": "python",
   "nbconvert_exporter": "python",
   "pygments_lexer": "ipython3",
   "version": "3.7.1"
  }
 },
 "nbformat": 4,
 "nbformat_minor": 2
}
